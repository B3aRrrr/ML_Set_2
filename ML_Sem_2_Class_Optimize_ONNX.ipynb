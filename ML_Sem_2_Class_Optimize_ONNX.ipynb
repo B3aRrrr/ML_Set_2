{
  "cells": [
    {
      "cell_type": "code",
      "execution_count": null,
      "metadata": {
        "colab": {
          "base_uri": "https://localhost:8080/"
        },
        "id": "ppE9uY7qaGGg",
        "outputId": "7db46c49-23e7-459c-bbd9-c18ea7997685"
      },
      "outputs": [
        {
          "output_type": "stream",
          "name": "stderr",
          "text": [
            "YOLOv5 🚀 v7.0-175-g5f11555 Python-3.10.11 torch-2.0.1+cu118 CPU\n"
          ]
        },
        {
          "output_type": "stream",
          "name": "stdout",
          "text": [
            "Setup complete ✅ (2 CPUs, 12.7 GB RAM, 23.3/107.7 GB disk)\n"
          ]
        }
      ],
      "source": [
        "!git clone https://github.com/ultralytics/yolov5  # clone\n",
        "%cd yolov5\n",
        "%pip install -qr requirements.txt  # install\n",
        "\n",
        "import torch\n",
        "import utils\n",
        "display = utils.notebook_init()  # checks"
      ]
    },
    {
      "cell_type": "markdown",
      "metadata": {
        "id": "9a_rVFBpaazu"
      },
      "source": [
        "Train\n"
      ]
    },
    {
      "cell_type": "code",
      "execution_count": null,
      "metadata": {
        "colab": {
          "base_uri": "https://localhost:8080/"
        },
        "id": "ys_cVSMragiP",
        "outputId": "4b1b4978-535e-4508-a4e6-1b9bf46e65c6"
      },
      "outputs": [
        {
          "output_type": "stream",
          "name": "stdout",
          "text": [
            "\u001b[34m\u001b[1mclassify/train: \u001b[0mmodel=yolov5s-cls.pt, data=imagenette160, epochs=5, batch_size=64, imgsz=224, nosave=False, cache=ram, device=, workers=8, project=runs/train-cls, name=exp, exist_ok=False, pretrained=True, optimizer=Adam, lr0=0.001, decay=5e-05, label_smoothing=0.1, cutoff=None, dropout=None, verbose=False, seed=0, local_rank=-1\n",
            "\u001b[34m\u001b[1mgithub: \u001b[0mup to date with https://github.com/ultralytics/yolov5 ✅\n",
            "YOLOv5 🚀 v7.0-175-g5f11555 Python-3.10.11 torch-2.0.1+cu118 CPU\n",
            "\n",
            "\u001b[34m\u001b[1mTensorBoard: \u001b[0mStart with 'tensorboard --logdir runs/train-cls', view at http://localhost:6006/\n",
            "\n",
            "Dataset not found ⚠️, missing path /content/datasets/imagenette160, attempting download...\n",
            "Downloading https://github.com/ultralytics/yolov5/releases/download/v1.0/imagenette160.zip to /content/datasets/imagenette160.zip...\n",
            "100% 103M/103M [00:00<00:00, 184MB/s] \n",
            "Unzipping /content/datasets/imagenette160.zip...\n",
            "Dataset download success ✅ (3.9s), saved to \u001b[1m/content/datasets/imagenette160\u001b[0m\n",
            "\n",
            "\u001b[34m\u001b[1malbumentations: \u001b[0mRandomResizedCrop(p=1.0, height=224, width=224, scale=(0.08, 1.0), ratio=(0.75, 1.3333333333333333), interpolation=1), HorizontalFlip(p=0.5), ColorJitter(p=0.5, brightness=[0.6, 1.4], contrast=[0.6, 1.4], saturation=[0.6, 1.4], hue=[0, 0]), Normalize(p=1.0, mean=(0.485, 0.456, 0.406), std=(0.229, 0.224, 0.225), max_pixel_value=255.0), ToTensorV2(always_apply=True, p=1.0, transpose_mask=False)\n",
            "Downloading https://github.com/ultralytics/yolov5/releases/download/v7.0/yolov5s-cls.pt to yolov5s-cls.pt...\n",
            "100% 10.5M/10.5M [00:00<00:00, 75.6MB/s]\n",
            "\n",
            "Model summary: 149 layers, 4185290 parameters, 4185290 gradients, 10.5 GFLOPs\n",
            "\u001b[34m\u001b[1moptimizer:\u001b[0m Adam(lr=0.001) with parameter groups 32 weight(decay=0.0), 33 weight(decay=5e-05), 33 bias\n",
            "Image sizes 224 train, 224 test\n",
            "Using 1 dataloader workers\n",
            "Logging results to \u001b[1mruns/train-cls/exp\u001b[0m\n",
            "Starting yolov5s-cls.pt training on imagenette160 dataset with 10 classes for 5 epochs...\n",
            "\n",
            "     Epoch   GPU_mem  train_loss    val_loss    top1_acc    top5_acc\n",
            "       1/5        0G        1.05       0.855       0.881       0.989: 100% 148/148 [24:42<00:00, 10.02s/it]\n",
            "       2/5        0G       0.897       0.764       0.915       0.994: 100% 148/148 [25:07<00:00, 10.18s/it]\n",
            "       3/5        0G       0.818       0.712        0.93       0.997: 100% 148/148 [24:57<00:00, 10.12s/it]\n",
            "       4/5        0G       0.767       0.673       0.945       0.998: 100% 148/148 [24:34<00:00,  9.96s/it]\n",
            "       5/5        0G       0.724       0.635       0.959       0.998: 100% 148/148 [24:17<00:00,  9.85s/it]\n",
            "\n",
            "Training complete (2.061 hours)\n",
            "Results saved to \u001b[1mruns/train-cls/exp\u001b[0m\n",
            "Predict:         python classify/predict.py --weights runs/train-cls/exp/weights/best.pt --source im.jpg\n",
            "Validate:        python classify/val.py --weights runs/train-cls/exp/weights/best.pt --data /content/datasets/imagenette160\n",
            "Export:          python export.py --weights runs/train-cls/exp/weights/best.pt --include onnx\n",
            "PyTorch Hub:     model = torch.hub.load('ultralytics/yolov5', 'custom', 'runs/train-cls/exp/weights/best.pt')\n",
            "Visualize:       https://netron.app\n",
            "\n"
          ]
        }
      ],
      "source": [
        "# Train YOLOv5s Classification on Imagenette160 for 3 epochs\n",
        "!python classify/train.py --model yolov5s-cls.pt --data imagenette160 --epochs 5 --img 224 --cache"
      ]
    },
    {
      "cell_type": "markdown",
      "source": [
        "**Export trained model to ONNX**"
      ],
      "metadata": {
        "id": "O-539XzLLpjk"
      }
    },
    {
      "cell_type": "code",
      "source": [
        "!python export.py --weights runs/train-cls/exp/weights/best.pt --include  onnx"
      ],
      "metadata": {
        "colab": {
          "base_uri": "https://localhost:8080/"
        },
        "id": "pzOmULCQLqJv",
        "outputId": "a7137c47-4e23-42c0-ed3c-6a0c8173c738"
      },
      "execution_count": null,
      "outputs": [
        {
          "output_type": "stream",
          "name": "stdout",
          "text": [
            "\u001b[34m\u001b[1mexport: \u001b[0mdata=data/coco128.yaml, weights=['runs/train-cls/exp/weights/best.pt'], imgsz=[640, 640], batch_size=1, device=cpu, half=False, inplace=False, keras=False, optimize=False, int8=False, dynamic=False, simplify=False, opset=17, verbose=False, workspace=4, nms=False, agnostic_nms=False, topk_per_class=100, topk_all=100, iou_thres=0.45, conf_thres=0.25, include=['onnx']\n",
            "YOLOv5 🚀 v7.0-175-g5f11555 Python-3.10.11 torch-2.0.1+cu118 CPU\n",
            "\n",
            "Fusing layers... \n",
            "Model summary: 117 layers, 4179498 parameters, 0 gradients, 10.4 GFLOPs\n",
            "\n",
            "\u001b[34m\u001b[1mPyTorch:\u001b[0m starting from runs/train-cls/exp/weights/best.pt with output shape (1, 10) (8.1 MB)\n",
            "\u001b[31m\u001b[1mrequirements:\u001b[0m Ultralytics requirement \"onnx>=1.12.0\" not found, attempting AutoUpdate...\n",
            "Looking in indexes: https://pypi.org/simple, https://us-python.pkg.dev/colab-wheels/public/simple/\n",
            "Collecting onnx>=1.12.0\n",
            "  Downloading onnx-1.14.0-cp310-cp310-manylinux_2_17_x86_64.manylinux2014_x86_64.whl (14.6 MB)\n",
            "     ━━━━━━━━━━━━━━━━━━━━━━━━━━━━━━━━━━━━━━━ 14.6/14.6 MB 228.4 MB/s eta 0:00:00\n",
            "Requirement already satisfied: numpy in /usr/local/lib/python3.10/dist-packages (from onnx>=1.12.0) (1.22.4)\n",
            "Requirement already satisfied: protobuf>=3.20.2 in /usr/local/lib/python3.10/dist-packages (from onnx>=1.12.0) (3.20.3)\n",
            "Requirement already satisfied: typing-extensions>=3.6.2.1 in /usr/local/lib/python3.10/dist-packages (from onnx>=1.12.0) (4.5.0)\n",
            "Installing collected packages: onnx\n",
            "Successfully installed onnx-1.14.0\n",
            "\n",
            "\u001b[31m\u001b[1mrequirements:\u001b[0m 1 package updated per ['onnx>=1.12.0']\n",
            "\u001b[31m\u001b[1mrequirements:\u001b[0m ⚠️ \u001b[1mRestart runtime or rerun command for updates to take effect\u001b[0m\n",
            "\n",
            "\n",
            "\u001b[34m\u001b[1mONNX:\u001b[0m starting export with onnx 1.14.0...\n",
            "============= Diagnostic Run torch.onnx.export version 2.0.1+cu118 =============\n",
            "verbose: False, log level: Level.ERROR\n",
            "======================= 0 NONE 0 NOTE 0 WARNING 0 ERROR ========================\n",
            "\n",
            "\u001b[34m\u001b[1mONNX:\u001b[0m export success ✅ 10.2s, saved as runs/train-cls/exp/weights/best.onnx (16.0 MB)\n",
            "\n",
            "Export complete (11.1s)\n",
            "Results saved to \u001b[1m/content/yolov5/runs/train-cls/exp/weights\u001b[0m\n",
            "Detect:          python classify/predict.py --weights runs/train-cls/exp/weights/best.onnx \n",
            "Validate:        python classify/val.py --weights runs/train-cls/exp/weights/best.onnx \n",
            "PyTorch Hub:     model = torch.hub.load('ultralytics/yolov5', 'custom', 'runs/train-cls/exp/weights/best.onnx')  # WARNING ⚠️ ClassificationModel not yet supported for PyTorch Hub AutoShape inference\n",
            "Visualize:       https://netron.app\n"
          ]
        }
      ]
    },
    {
      "cell_type": "code",
      "source": [
        "!pip install onnx\n",
        "!pip install onnxsim"
      ],
      "metadata": {
        "colab": {
          "base_uri": "https://localhost:8080/"
        },
        "id": "vv37huTidpFR",
        "outputId": "53d8da08-54b8-42e6-c95b-eee054c2ea45"
      },
      "execution_count": null,
      "outputs": [
        {
          "output_type": "stream",
          "name": "stdout",
          "text": [
            "Looking in indexes: https://pypi.org/simple, https://us-python.pkg.dev/colab-wheels/public/simple/\n",
            "Requirement already satisfied: onnx in /usr/local/lib/python3.10/dist-packages (1.14.0)\n",
            "Requirement already satisfied: numpy in /usr/local/lib/python3.10/dist-packages (from onnx) (1.22.4)\n",
            "Requirement already satisfied: protobuf>=3.20.2 in /usr/local/lib/python3.10/dist-packages (from onnx) (3.20.3)\n",
            "Requirement already satisfied: typing-extensions>=3.6.2.1 in /usr/local/lib/python3.10/dist-packages (from onnx) (4.5.0)\n",
            "Looking in indexes: https://pypi.org/simple, https://us-python.pkg.dev/colab-wheels/public/simple/\n",
            "Collecting onnxsim\n",
            "  Downloading onnxsim-0.4.28-cp310-cp310-manylinux_2_17_x86_64.manylinux2014_x86_64.whl (2.1 MB)\n",
            "\u001b[2K     \u001b[90m━━━━━━━━━━━━━━━━━━━━━━━━━━━━━━━━━━━━━━━━\u001b[0m \u001b[32m2.1/2.1 MB\u001b[0m \u001b[31m24.2 MB/s\u001b[0m eta \u001b[36m0:00:00\u001b[0m\n",
            "\u001b[?25hRequirement already satisfied: onnx in /usr/local/lib/python3.10/dist-packages (from onnxsim) (1.14.0)\n",
            "Requirement already satisfied: rich in /usr/local/lib/python3.10/dist-packages (from onnxsim) (13.3.4)\n",
            "Requirement already satisfied: numpy in /usr/local/lib/python3.10/dist-packages (from onnx->onnxsim) (1.22.4)\n",
            "Requirement already satisfied: protobuf>=3.20.2 in /usr/local/lib/python3.10/dist-packages (from onnx->onnxsim) (3.20.3)\n",
            "Requirement already satisfied: typing-extensions>=3.6.2.1 in /usr/local/lib/python3.10/dist-packages (from onnx->onnxsim) (4.5.0)\n",
            "Requirement already satisfied: markdown-it-py<3.0.0,>=2.2.0 in /usr/local/lib/python3.10/dist-packages (from rich->onnxsim) (2.2.0)\n",
            "Requirement already satisfied: pygments<3.0.0,>=2.13.0 in /usr/local/lib/python3.10/dist-packages (from rich->onnxsim) (2.14.0)\n",
            "Requirement already satisfied: mdurl~=0.1 in /usr/local/lib/python3.10/dist-packages (from markdown-it-py<3.0.0,>=2.2.0->rich->onnxsim) (0.1.2)\n",
            "Installing collected packages: onnxsim\n",
            "Successfully installed onnxsim-0.4.28\n"
          ]
        }
      ]
    },
    {
      "cell_type": "code",
      "source": [
        "# Import the onnx module\n",
        "import onnx\n",
        "import numpy as np\n",
        "\n",
        "\n",
        "# Import the simplify method from the onnxsim module\n",
        "from onnxsim import simplify"
      ],
      "metadata": {
        "id": "OKt5QSFpdioK"
      },
      "execution_count": null,
      "outputs": []
    },
    {
      "cell_type": "code",
      "execution_count": null,
      "metadata": {
        "id": "629ec2ea",
        "outputId": "ca74fac6-fadd-4def-ec44-310afc9b895f",
        "colab": {
          "base_uri": "https://localhost:8080/",
          "height": 35
        }
      },
      "outputs": [
        {
          "output_type": "execute_result",
          "data": {
            "text/plain": [
              "'/content'"
            ],
            "application/vnd.google.colaboratory.intrinsic+json": {
              "type": "string"
            }
          },
          "metadata": {},
          "execution_count": 6
        }
      ],
      "source": [
        "# Create a Path object representing the current directory\n",
        "output_dir = os.getcwd()\n",
        "\n",
        "# Print the output_dir object\n",
        "output_dir"
      ]
    },
    {
      "cell_type": "code",
      "execution_count": null,
      "metadata": {
        "id": "e3eba55d",
        "outputId": "fbd454d2-db65-419f-eb7b-69363222fbcc",
        "colab": {
          "base_uri": "https://localhost:8080/",
          "height": 35
        }
      },
      "outputs": [
        {
          "output_type": "execute_result",
          "data": {
            "text/plain": [
              "'/content/yolov5/runs/train-cls/exp/weights/best.xml'"
            ],
            "application/vnd.google.colaboratory.intrinsic+json": {
              "type": "string"
            }
          },
          "metadata": {},
          "execution_count": 8
        }
      ],
      "source": [
        "# Create a Path object representing the IR xml file using the ONNX model file name without the file extension\n",
        "onnx_file_name = os.path.join(output_dir,\"yolov5/runs/train-cls/exp/weights\",\"best.onnx\")\n",
        "ir_path = os.path.join(output_dir,f\"{onnx_file_name.split('.')[0]}.xml\")\n",
        "\n",
        "# Print the ir_path object\n",
        "ir_path"
      ]
    },
    {
      "cell_type": "code",
      "source": [
        "# Load the ONNX model from the onnx_file_name\n",
        "onnx_model = onnx.load(onnx_file_name)\n",
        "\n",
        "# Simplify the model\n",
        "model_simp, check = simplify(onnx_model)\n",
        "\n",
        "# Save the simplified model to the onnx_file_name\n",
        "onnx.save(model_simp, onnx_file_name)"
      ],
      "metadata": {
        "id": "koRpkot6dvaq"
      },
      "execution_count": null,
      "outputs": []
    },
    {
      "cell_type": "code",
      "source": [
        "!tar -cvf \"/content/yolov5.tar\" \"/content/yolov5\""
      ],
      "metadata": {
        "colab": {
          "base_uri": "https://localhost:8080/"
        },
        "id": "ochQcBqGaq3W",
        "outputId": "46c2c4b0-4770-4274-cb13-1a8a89479383"
      },
      "execution_count": null,
      "outputs": [
        {
          "output_type": "stream",
          "name": "stdout",
          "text": [
            "tar: Removing leading `/' from member names\n",
            "/content/yolov5/\n",
            "/content/yolov5/.dockerignore\n",
            "/content/yolov5/CONTRIBUTING.md\n",
            "/content/yolov5/yolov5s-cls.pt\n",
            "/content/yolov5/README.md\n",
            "/content/yolov5/runs/\n",
            "/content/yolov5/runs/train-cls/\n",
            "/content/yolov5/runs/train-cls/exp/\n",
            "/content/yolov5/runs/train-cls/exp/test_images.jpg\n",
            "/content/yolov5/runs/train-cls/exp/train_images.jpg\n",
            "/content/yolov5/runs/train-cls/exp/weights/\n",
            "/content/yolov5/runs/train-cls/exp/weights/best.onnx\n",
            "/content/yolov5/runs/train-cls/exp/weights/best.pt\n",
            "/content/yolov5/runs/train-cls/exp/weights/last.pt\n",
            "/content/yolov5/runs/train-cls/exp/events.out.tfevents.1685723558.75e4480841c8.1027.0\n",
            "/content/yolov5/runs/train-cls/exp/results.csv\n",
            "/content/yolov5/runs/train-cls/exp/opt.yaml\n",
            "/content/yolov5/segment/\n",
            "/content/yolov5/segment/val.py\n",
            "/content/yolov5/segment/predict.py\n",
            "/content/yolov5/segment/train.py\n",
            "/content/yolov5/segment/tutorial.ipynb\n",
            "/content/yolov5/.gitignore\n",
            "/content/yolov5/requirements.txt\n",
            "/content/yolov5/.git/\n",
            "/content/yolov5/.git/refs/\n",
            "/content/yolov5/.git/refs/heads/\n",
            "/content/yolov5/.git/refs/heads/master\n",
            "/content/yolov5/.git/refs/tags/\n",
            "/content/yolov5/.git/refs/remotes/\n",
            "/content/yolov5/.git/refs/remotes/origin/\n",
            "/content/yolov5/.git/refs/remotes/origin/HEAD\n",
            "/content/yolov5/.git/objects/\n",
            "/content/yolov5/.git/objects/pack/\n",
            "/content/yolov5/.git/objects/pack/pack-35ac86120067dc876eb0f7d44a68e3700fbded4c.idx\n",
            "/content/yolov5/.git/objects/pack/pack-35ac86120067dc876eb0f7d44a68e3700fbded4c.pack\n",
            "/content/yolov5/.git/objects/info/\n",
            "/content/yolov5/.git/logs/\n",
            "/content/yolov5/.git/logs/refs/\n",
            "/content/yolov5/.git/logs/refs/heads/\n",
            "/content/yolov5/.git/logs/refs/heads/master\n",
            "/content/yolov5/.git/logs/refs/remotes/\n",
            "/content/yolov5/.git/logs/refs/remotes/origin/\n",
            "/content/yolov5/.git/logs/refs/remotes/origin/HEAD\n",
            "/content/yolov5/.git/logs/HEAD\n",
            "/content/yolov5/.git/hooks/\n",
            "/content/yolov5/.git/hooks/fsmonitor-watchman.sample\n",
            "/content/yolov5/.git/hooks/pre-merge-commit.sample\n",
            "/content/yolov5/.git/hooks/pre-rebase.sample\n",
            "/content/yolov5/.git/hooks/applypatch-msg.sample\n",
            "/content/yolov5/.git/hooks/pre-push.sample\n",
            "/content/yolov5/.git/hooks/update.sample\n",
            "/content/yolov5/.git/hooks/post-update.sample\n",
            "/content/yolov5/.git/hooks/prepare-commit-msg.sample\n",
            "/content/yolov5/.git/hooks/pre-applypatch.sample\n",
            "/content/yolov5/.git/hooks/pre-commit.sample\n",
            "/content/yolov5/.git/hooks/pre-receive.sample\n",
            "/content/yolov5/.git/hooks/commit-msg.sample\n",
            "/content/yolov5/.git/info/\n",
            "/content/yolov5/.git/info/exclude\n",
            "/content/yolov5/.git/HEAD\n",
            "/content/yolov5/.git/packed-refs\n",
            "/content/yolov5/.git/branches/\n",
            "/content/yolov5/.git/config\n",
            "/content/yolov5/.git/index\n",
            "/content/yolov5/.git/description\n",
            "/content/yolov5/.git/FETCH_HEAD\n",
            "/content/yolov5/LICENSE\n",
            "/content/yolov5/export.py\n",
            "/content/yolov5/val.py\n",
            "/content/yolov5/hubconf.py\n",
            "/content/yolov5/benchmarks.py\n",
            "/content/yolov5/utils/\n",
            "/content/yolov5/utils/triton.py\n",
            "/content/yolov5/utils/docker/\n",
            "/content/yolov5/utils/docker/Dockerfile-cpu\n",
            "/content/yolov5/utils/docker/Dockerfile\n",
            "/content/yolov5/utils/docker/Dockerfile-arm64\n",
            "/content/yolov5/utils/plots.py\n",
            "/content/yolov5/utils/segment/\n",
            "/content/yolov5/utils/segment/plots.py\n",
            "/content/yolov5/utils/segment/loss.py\n",
            "/content/yolov5/utils/segment/augmentations.py\n",
            "/content/yolov5/utils/segment/__init__.py\n",
            "/content/yolov5/utils/segment/metrics.py\n",
            "/content/yolov5/utils/segment/dataloaders.py\n",
            "/content/yolov5/utils/segment/__pycache__/\n",
            "/content/yolov5/utils/segment/__pycache__/__init__.cpython-310.pyc\n",
            "/content/yolov5/utils/segment/__pycache__/general.cpython-310.pyc\n",
            "/content/yolov5/utils/segment/general.py\n",
            "/content/yolov5/utils/autobatch.py\n",
            "/content/yolov5/utils/autoanchor.py\n",
            "/content/yolov5/utils/loss.py\n",
            "/content/yolov5/utils/augmentations.py\n",
            "/content/yolov5/utils/downloads.py\n",
            "/content/yolov5/utils/torch_utils.py\n",
            "/content/yolov5/utils/google_app_engine/\n",
            "/content/yolov5/utils/google_app_engine/Dockerfile\n",
            "/content/yolov5/utils/google_app_engine/additional_requirements.txt\n",
            "/content/yolov5/utils/google_app_engine/app.yaml\n",
            "/content/yolov5/utils/__init__.py\n",
            "/content/yolov5/utils/metrics.py\n",
            "/content/yolov5/utils/dataloaders.py\n",
            "/content/yolov5/utils/activations.py\n",
            "/content/yolov5/utils/aws/\n",
            "/content/yolov5/utils/aws/userdata.sh\n",
            "/content/yolov5/utils/aws/mime.sh\n",
            "/content/yolov5/utils/aws/__init__.py\n",
            "/content/yolov5/utils/aws/resume.py\n",
            "/content/yolov5/utils/flask_rest_api/\n",
            "/content/yolov5/utils/flask_rest_api/README.md\n",
            "/content/yolov5/utils/flask_rest_api/restapi.py\n",
            "/content/yolov5/utils/flask_rest_api/example_request.py\n",
            "/content/yolov5/utils/__pycache__/\n",
            "/content/yolov5/utils/__pycache__/downloads.cpython-310.pyc\n",
            "/content/yolov5/utils/__pycache__/torch_utils.cpython-310.pyc\n",
            "/content/yolov5/utils/__pycache__/metrics.cpython-310.pyc\n",
            "/content/yolov5/utils/__pycache__/__init__.cpython-310.pyc\n",
            "/content/yolov5/utils/__pycache__/autoanchor.cpython-310.pyc\n",
            "/content/yolov5/utils/__pycache__/augmentations.cpython-310.pyc\n",
            "/content/yolov5/utils/__pycache__/general.cpython-310.pyc\n",
            "/content/yolov5/utils/__pycache__/dataloaders.cpython-310.pyc\n",
            "/content/yolov5/utils/__pycache__/plots.cpython-310.pyc\n",
            "/content/yolov5/utils/loggers/\n",
            "/content/yolov5/utils/loggers/wandb/\n",
            "/content/yolov5/utils/loggers/wandb/wandb_utils.py\n",
            "/content/yolov5/utils/loggers/wandb/__init__.py\n",
            "/content/yolov5/utils/loggers/wandb/__pycache__/\n",
            "/content/yolov5/utils/loggers/wandb/__pycache__/wandb_utils.cpython-310.pyc\n",
            "/content/yolov5/utils/loggers/wandb/__pycache__/__init__.cpython-310.pyc\n",
            "/content/yolov5/utils/loggers/__init__.py\n",
            "/content/yolov5/utils/loggers/comet/\n",
            "/content/yolov5/utils/loggers/comet/comet_utils.py\n",
            "/content/yolov5/utils/loggers/comet/README.md\n",
            "/content/yolov5/utils/loggers/comet/optimizer_config.json\n",
            "/content/yolov5/utils/loggers/comet/__init__.py\n",
            "/content/yolov5/utils/loggers/comet/hpo.py\n",
            "/content/yolov5/utils/loggers/clearml/\n",
            "/content/yolov5/utils/loggers/clearml/README.md\n",
            "/content/yolov5/utils/loggers/clearml/clearml_utils.py\n",
            "/content/yolov5/utils/loggers/clearml/__init__.py\n",
            "/content/yolov5/utils/loggers/clearml/hpo.py\n",
            "/content/yolov5/utils/loggers/clearml/__pycache__/\n",
            "/content/yolov5/utils/loggers/clearml/__pycache__/clearml_utils.cpython-310.pyc\n",
            "/content/yolov5/utils/loggers/clearml/__pycache__/__init__.cpython-310.pyc\n",
            "/content/yolov5/utils/loggers/__pycache__/\n",
            "/content/yolov5/utils/loggers/__pycache__/__init__.cpython-310.pyc\n",
            "/content/yolov5/utils/callbacks.py\n",
            "/content/yolov5/utils/general.py\n",
            "/content/yolov5/train.py\n",
            "/content/yolov5/data/\n",
            "/content/yolov5/data/scripts/\n",
            "/content/yolov5/data/scripts/download_weights.sh\n",
            "/content/yolov5/data/scripts/get_coco.sh\n",
            "/content/yolov5/data/scripts/get_imagenet.sh\n",
            "/content/yolov5/data/scripts/get_coco128.sh\n",
            "/content/yolov5/data/coco128.yaml\n",
            "/content/yolov5/data/coco128-seg.yaml\n",
            "/content/yolov5/data/VOC.yaml\n",
            "/content/yolov5/data/SKU-110K.yaml\n",
            "/content/yolov5/data/coco.yaml\n",
            "/content/yolov5/data/VisDrone.yaml\n",
            "/content/yolov5/data/ImageNet.yaml\n",
            "/content/yolov5/data/xView.yaml\n",
            "/content/yolov5/data/Argoverse.yaml\n",
            "/content/yolov5/data/hyps/\n",
            "/content/yolov5/data/hyps/hyp.Objects365.yaml\n",
            "/content/yolov5/data/hyps/hyp.scratch-low.yaml\n",
            "/content/yolov5/data/hyps/hyp.scratch-med.yaml\n",
            "/content/yolov5/data/hyps/hyp.VOC.yaml\n",
            "/content/yolov5/data/hyps/hyp.no-augmentation.yaml\n",
            "/content/yolov5/data/hyps/hyp.scratch-high.yaml\n",
            "/content/yolov5/data/images/\n",
            "/content/yolov5/data/images/zidane.jpg\n",
            "/content/yolov5/data/images/bus.jpg\n",
            "/content/yolov5/data/Objects365.yaml\n",
            "/content/yolov5/data/GlobalWheat2020.yaml\n",
            "/content/yolov5/tutorial.ipynb\n",
            "/content/yolov5/models/\n",
            "/content/yolov5/models/yolov5m.yaml\n",
            "/content/yolov5/models/yolov5x.yaml\n",
            "/content/yolov5/models/hub/\n",
            "/content/yolov5/models/hub/yolov3.yaml\n",
            "/content/yolov5/models/hub/yolov5s-transformer.yaml\n",
            "/content/yolov5/models/hub/yolov5-p2.yaml\n",
            "/content/yolov5/models/hub/yolov5n6.yaml\n",
            "/content/yolov5/models/hub/yolov5-panet.yaml\n",
            "/content/yolov5/models/hub/anchors.yaml\n",
            "/content/yolov5/models/hub/yolov5-fpn.yaml\n",
            "/content/yolov5/models/hub/yolov5-p34.yaml\n",
            "/content/yolov5/models/hub/yolov5-p7.yaml\n",
            "/content/yolov5/models/hub/yolov5-p6.yaml\n",
            "/content/yolov5/models/hub/yolov3-tiny.yaml\n",
            "/content/yolov5/models/hub/yolov5s-ghost.yaml\n",
            "/content/yolov5/models/hub/yolov5s-LeakyReLU.yaml\n",
            "/content/yolov5/models/hub/yolov5s6.yaml\n",
            "/content/yolov5/models/hub/yolov5m6.yaml\n",
            "/content/yolov5/models/hub/yolov3-spp.yaml\n",
            "/content/yolov5/models/hub/yolov5x6.yaml\n",
            "/content/yolov5/models/hub/yolov5l6.yaml\n",
            "/content/yolov5/models/hub/yolov5-bifpn.yaml\n",
            "/content/yolov5/models/segment/\n",
            "/content/yolov5/models/segment/yolov5x-seg.yaml\n",
            "/content/yolov5/models/segment/yolov5s-seg.yaml\n",
            "/content/yolov5/models/segment/yolov5n-seg.yaml\n",
            "/content/yolov5/models/segment/yolov5l-seg.yaml\n",
            "/content/yolov5/models/segment/yolov5m-seg.yaml\n",
            "/content/yolov5/models/yolo.py\n",
            "/content/yolov5/models/experimental.py\n",
            "/content/yolov5/models/common.py\n",
            "/content/yolov5/models/__init__.py\n",
            "/content/yolov5/models/yolov5n.yaml\n",
            "/content/yolov5/models/yolov5l.yaml\n",
            "/content/yolov5/models/yolov5s.yaml\n",
            "/content/yolov5/models/__pycache__/\n",
            "/content/yolov5/models/__pycache__/experimental.cpython-310.pyc\n",
            "/content/yolov5/models/__pycache__/__init__.cpython-310.pyc\n",
            "/content/yolov5/models/__pycache__/common.cpython-310.pyc\n",
            "/content/yolov5/models/__pycache__/yolo.cpython-310.pyc\n",
            "/content/yolov5/models/tf.py\n",
            "/content/yolov5/.gitattributes\n",
            "/content/yolov5/CITATION.cff\n",
            "/content/yolov5/setup.cfg\n",
            "/content/yolov5/classify/\n",
            "/content/yolov5/classify/val.py\n",
            "/content/yolov5/classify/predict.py\n",
            "/content/yolov5/classify/train.py\n",
            "/content/yolov5/classify/tutorial.ipynb\n",
            "/content/yolov5/classify/__pycache__/\n",
            "/content/yolov5/classify/__pycache__/val.cpython-310.pyc\n",
            "/content/yolov5/detect.py\n",
            "/content/yolov5/README.zh-CN.md\n",
            "/content/yolov5/.pre-commit-config.yaml\n",
            "/content/yolov5/.github/\n",
            "/content/yolov5/.github/dependabot.yml\n",
            "/content/yolov5/.github/workflows/\n",
            "/content/yolov5/.github/workflows/stale.yml\n",
            "/content/yolov5/.github/workflows/links.yml\n",
            "/content/yolov5/.github/workflows/docker.yml\n",
            "/content/yolov5/.github/workflows/codeql-analysis.yml\n",
            "/content/yolov5/.github/workflows/ci-testing.yml\n",
            "/content/yolov5/.github/workflows/translate-readme.yml\n",
            "/content/yolov5/.github/workflows/greetings.yml\n",
            "/content/yolov5/.github/PULL_REQUEST_TEMPLATE.md\n",
            "/content/yolov5/.github/ISSUE_TEMPLATE/\n",
            "/content/yolov5/.github/ISSUE_TEMPLATE/config.yml\n",
            "/content/yolov5/.github/ISSUE_TEMPLATE/feature-request.yml\n",
            "/content/yolov5/.github/ISSUE_TEMPLATE/question.yml\n",
            "/content/yolov5/.github/ISSUE_TEMPLATE/bug-report.yml\n"
          ]
        }
      ]
    },
    {
      "cell_type": "code",
      "source": [
        "%%capture\n",
        "# !pip install -U torch==1.10.0+cu111 torchvision==0.11.1+cu111 -f https://download.pytorch.org/whl/torch_stable.html\n",
        "# !pip install mmcv-full==1.3.17 -f https://download.openmmlab.com/mmcv/dist/cu111/torch1.10.0/index.html\n",
        "# !pip install mmdet==2.17.0\n",
        "# !pip install icevision==0.11.0\n",
        "# !pip install icedata==0.5.1\n",
        "# !pip install -U setuptools==59.5.0\n",
        "!pip install openvino-dev\n",
        "# !pip install distinctipy\n",
        "# !pip install -U pillow\n",
        "# !pip install -U numpy\n",
        "# !pip install onnxruntime\n",
        "# !pip install onnx-simplifier"
      ],
      "metadata": {
        "id": "vj7LEKmQa805"
      },
      "execution_count": null,
      "outputs": []
    },
    {
      "cell_type": "markdown",
      "metadata": {
        "id": "35cbea8e"
      },
      "source": [
        "**Import OpenVINO Dependencies**"
      ]
    },
    {
      "cell_type": "code",
      "execution_count": null,
      "metadata": {
        "id": "ddeac2c2"
      },
      "outputs": [],
      "source": [
        "# Import the Core class from the openvino.runtime module\n",
        "from openvino.runtime import Core"
      ]
    },
    {
      "cell_type": "code",
      "execution_count": null,
      "metadata": {
        "id": "d2204bfd"
      },
      "outputs": [],
      "source": [
        "# Import the Markdown and display classes from the IPython.display module\n",
        "from IPython.display import Markdown, display\n",
        "import os \n",
        "import torch"
      ]
    },
    {
      "cell_type": "markdown",
      "metadata": {
        "id": "ae381e10"
      },
      "source": [
        "**Define export directory**"
      ]
    },
    {
      "cell_type": "markdown",
      "metadata": {
        "id": "e7bcfbad"
      },
      "source": [
        "**Define path for OpenVINO IR xml model file**"
      ]
    },
    {
      "cell_type": "markdown",
      "metadata": {
        "id": "ff728a9e"
      },
      "source": [
        "**Define arguments for model conversion script**"
      ]
    },
    {
      "cell_type": "code",
      "execution_count": null,
      "metadata": {
        "id": "75e79f4e",
        "outputId": "ac278a28-8d18-4b05-9707-fdedb8101d9d",
        "colab": {
          "base_uri": "https://localhost:8080/",
          "height": 52
        }
      },
      "outputs": [
        {
          "output_type": "stream",
          "name": "stdout",
          "text": [
            "Model Optimizer command to convert the ONNX model to OpenVINO:\n"
          ]
        },
        {
          "output_type": "display_data",
          "data": {
            "text/plain": [
              "<IPython.core.display.Markdown object>"
            ],
            "text/markdown": "```bash\nmo --input_model \"/content/yolov5/runs/train-cls/exp/weights/best.onnx\" --input_shape \"[1,3, 224, 224]\" --output_dir \"/content\"\n```"
          },
          "metadata": {}
        }
      ],
      "source": [
        "# Create the Model Optimizer command to convert the ONNX model to OpenVINO\n",
        "mo_command = f\"\"\"mo\n",
        "                 --input_model \"{onnx_file_name}\"\n",
        "                 --input_shape \"[1,3, {224}, {224}]\"\n",
        "                 --output_dir \"{output_dir}\"\n",
        "                 \"\"\"\n",
        "\n",
        "# Remove extra whitespace from the command string\n",
        "mo_command = \" \".join(mo_command.split())\n",
        "\n",
        "# Print the command and format it as a Bash code block\n",
        "print(\"Model Optimizer command to convert the ONNX model to OpenVINO:\")\n",
        "display(Markdown(f\"```bash\\n{mo_command}\\n```\"))"
      ]
    },
    {
      "cell_type": "code",
      "source": [
        "# mo_command = f\"\"\"mo\n",
        "#                  --input_model \"{onnx_file_name}\"\n",
        "#                  --input_shape \"[1,3, {224}, {224}]\"\n",
        "#                  --mean_values=\"{0.5}\"\n",
        "#                  --scale_values=\"{0.5}\"\n",
        "#                  --data_type FP16\n",
        "#                  --output_dir \"{output_dir}\"\n",
        "#                  \"\"\""
      ],
      "metadata": {
        "id": "HbGaTYmvfp5e"
      },
      "execution_count": null,
      "outputs": []
    },
    {
      "cell_type": "markdown",
      "metadata": {
        "id": "2b86ecf4"
      },
      "source": [
        "**Convert ONNX model to OpenVINO IR**"
      ]
    },
    {
      "cell_type": "code",
      "execution_count": null,
      "metadata": {
        "id": "441baea0",
        "outputId": "fb66c32c-b82c-4fd0-9c43-f8bbaf6ccbdb",
        "colab": {
          "base_uri": "https://localhost:8080/"
        }
      },
      "outputs": [
        {
          "output_type": "stream",
          "name": "stdout",
          "text": [
            "Exporting ONNX model to IR... This may take a few minutes.\n",
            "[ INFO ] The model was converted to IR v11, the latest model format that corresponds to the source DL framework input/output format. While IR v11 is backwards compatible with OpenVINO Inference Engine API v1.0, please use API v2.0 (as of 2022.1) to take advantage of the latest improvements in IR v11.\n",
            "Find more information about API v2.0 and IR v11 at https://docs.openvino.ai/latest/openvino_2_0_transition_guide.html\n",
            "[ SUCCESS ] Generated IR version 11 model.\n",
            "[ SUCCESS ] XML file: /content/best.xml\n",
            "[ SUCCESS ] BIN file: /content/best.bin\n"
          ]
        }
      ],
      "source": [
        "# Check if the IR model file exists\n",
        "if not os.path.exists(ir_path):\n",
        "    # If the IR model file does not exist, export the ONNX model to IR\n",
        "    print(\"Exporting ONNX model to IR... This may take a few minutes.\")\n",
        "    mo_result = %sx $mo_command\n",
        "    print(\"\\n\".join(mo_result))\n",
        "else:\n",
        "    # If the IR model file already exists, print a message\n",
        "    print(f\"IR model {ir_path} already exists.\")"
      ]
    },
    {
      "cell_type": "markdown",
      "metadata": {
        "id": "b55197d4"
      },
      "source": [
        "**Get available OpenVINO compute devices**"
      ]
    },
    {
      "cell_type": "code",
      "execution_count": null,
      "metadata": {
        "id": "67e6dd60",
        "outputId": "803042f5-e1df-4ddd-8520-2a6785d8505c",
        "colab": {
          "base_uri": "https://localhost:8080/"
        }
      },
      "outputs": [
        {
          "output_type": "stream",
          "name": "stdout",
          "text": [
            "CPU: device_name\n"
          ]
        }
      ],
      "source": [
        "# Create an instance of the Core class\n",
        "ie = Core()\n",
        "\n",
        "# Get the list of available devices\n",
        "devices = ie.available_devices\n",
        "\n",
        "# Iterate over the available devices\n",
        "for device in devices:\n",
        "    # Get the device name\n",
        "    # device_name = ie.get_property(device_name=device, name=\"FULL_DEVICE_NAME\")\n",
        "    \n",
        "    # Print the device and its name\n",
        "    print(f\"{device}: device_name\")\n",
        "from PIL import Image\n",
        "if os.path.exists(os.path.join(output_dir,\"datasets/imagenette160/train/n01440764/ILSVRC2012_val_00000293.JPEG\")):\n",
        "  test_img = Image.open(os.path.join(output_dir,\"datasets/imagenette160/train/n01440764/ILSVRC2012_val_00000293.JPEG\"))\n",
        "else:\n",
        "  print('&&&&')"
      ]
    },
    {
      "cell_type": "markdown",
      "metadata": {
        "id": "812c4879"
      },
      "source": [
        "**Prepare input image for OpenVINO IR model**"
      ]
    },
    {
      "cell_type": "code",
      "execution_count": null,
      "metadata": {
        "id": "77ea1850"
      },
      "outputs": [],
      "source": [
        "# Convert the test image to a Tensor\n",
        "img_tensor = torch.Tensor(np.array(test_img)).permute(2, 0, 1)\n",
        "\n",
        "# Scale the values of the Tensor from [0,255] to [0,1]\n",
        "scaled_tensor = img_tensor.float().div_(255)"
      ]
    },
    {
      "cell_type": "code",
      "execution_count": null,
      "metadata": {
        "id": "5924bac3",
        "outputId": "550c46a7-75c9-4aad-8d15-01da0090a5ab",
        "colab": {
          "base_uri": "https://localhost:8080/"
        }
      },
      "outputs": [
        {
          "output_type": "execute_result",
          "data": {
            "text/plain": [
              "torch.Size([1, 3, 160, 213])"
            ]
          },
          "metadata": {},
          "execution_count": 47
        }
      ],
      "source": [
        "# Add an extra dimension to the Tensor\n",
        "input_image = scaled_tensor.unsqueeze(dim=0)\n",
        "\n",
        "# Print the shape of the input image\n",
        "input_image.shape"
      ]
    },
    {
      "cell_type": "markdown",
      "metadata": {
        "id": "e6ca44d3"
      },
      "source": [
        "**Test OpenVINO IR model**"
      ]
    },
    {
      "cell_type": "code",
      "execution_count": null,
      "metadata": {
        "id": "d06bfdce"
      },
      "outputs": [],
      "source": [
        "# Create an instance of the Core class\n",
        "ie = Core()\n",
        "\n",
        "# Read the IR model file\n",
        "model_ir = ie.read_model(model=os.path.join(output_dir,\"best.xml\"))\n",
        "\n",
        "# Reshape the model to match the shape of the input image\n",
        "model_ir.reshape(input_image.shape)\n",
        "\n",
        "# Compile the model for the CPU device\n",
        "compiled_model_ir = ie.compile_model(model=model_ir, device_name=\"CPU\")\n",
        "\n",
        "# Get the input and output layers of the compiled model\n",
        "input_layer_ir = next(iter(compiled_model_ir.inputs))\n",
        "output_layer_ir = next(iter(compiled_model_ir.outputs))\n",
        "\n",
        "# Run the model on the input image and get the output\n",
        "# res_ir = compiled_model_ir([input_image])[output_layer_ir]"
      ]
    },
    {
      "cell_type": "code",
      "execution_count": null,
      "metadata": {
        "id": "64d9dbee",
        "outputId": "7a98a92e-2016-44a4-b0d1-a2d357b2953e",
        "colab": {
          "base_uri": "https://localhost:8080/",
          "height": 185
        }
      },
      "outputs": [
        {
          "output_type": "error",
          "ename": "NameError",
          "evalue": "ignored",
          "traceback": [
            "\u001b[0;31m---------------------------------------------------------------------------\u001b[0m",
            "\u001b[0;31mNameError\u001b[0m                                 Traceback (most recent call last)",
            "\u001b[0;32m<ipython-input-51-e671c86974c1>\u001b[0m in \u001b[0;36m<cell line: 2>\u001b[0;34m()\u001b[0m\n\u001b[1;32m      1\u001b[0m \u001b[0;31m# Print the shape of the model output\u001b[0m\u001b[0;34m\u001b[0m\u001b[0;34m\u001b[0m\u001b[0m\n\u001b[0;32m----> 2\u001b[0;31m \u001b[0mres_ir\u001b[0m\u001b[0;34m.\u001b[0m\u001b[0mshape\u001b[0m\u001b[0;34m\u001b[0m\u001b[0;34m\u001b[0m\u001b[0m\n\u001b[0m",
            "\u001b[0;31mNameError\u001b[0m: name 'res_ir' is not defined"
          ]
        }
      ],
      "source": [
        "# Print the shape of the model output\n",
        "res_ir.shape"
      ]
    }
  ],
  "metadata": {
    "colab": {
      "provenance": []
    },
    "kernelspec": {
      "display_name": "Python 3",
      "name": "python3"
    },
    "language_info": {
      "name": "python"
    }
  },
  "nbformat": 4,
  "nbformat_minor": 0
}